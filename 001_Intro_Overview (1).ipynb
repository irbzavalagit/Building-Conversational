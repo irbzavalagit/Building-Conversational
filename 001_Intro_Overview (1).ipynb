{
 "cells": [
  {
   "cell_type": "markdown",
   "metadata": {},
   "source": [
    "<a href=\"https://www.nvidia.com/dli\"> <img src=\"images/DLI_Header.png\" alt=\"Header\" style=\"width: 400px;\"/> </a>"
   ]
  },
  {
   "cell_type": "markdown",
   "metadata": {},
   "source": [
    "# 1.0 Building Conversational AI Applications - Course Overview\n",
    "Welcome to Building Conversational AI Applications!<br>\n",
    "In this course you'll learn to build, modify, and deploy conversational AI applications. \n",
    "\n",
    "<img src=\"images/intro/cai_pipeline2.png\">\n",
    "\n",
    "This instructor-led course consists of lectures and hands-on lab exercises.  You can also earn a certificate by successfully completing the optional coding and quiz-style assessments.\n",
    "\n",
    "The hands-on portion of the course consists of several notebooks divided among the following sections:\n",
    "- Introduction/Getting Started (applies to all labs; notebooks 1, 2, 3)\n",
    "- ASR - Automatic Speech Recognition (Lab 1; notebooks 4, 5)\n",
    "- TTS - Text To Speech and Conversational AI Customization (Lab 2; notebooks 6, 7, 8)\n",
    "- Production Deployment (Lab 3; notebooks 9, 10, 11)\n",
    "- Coding Assessment"
   ]
  },
  {
   "cell_type": "markdown",
   "metadata": {},
   "source": [
    "## Introduction/Getting Started (Applies to all labs)\n",
    "The objectives of this section are to gain an understanding of the overall course hands-on material, learn to use the JupyterLab interface, and to set up a free NGC (NVIDIA GPU Cloud) account.  You'll require the NGC account to pull docker images from the registry in later sections.\n",
    "\n",
    "### Table of Contents\n",
    "\n",
    "1. [Course Overview](001_Intro_Overview.ipynb) (_this_ notebook)<br>\n",
    "    You'll learn:\n",
    "    - The overall layout of the hands-on portion of the course\n",
    "    - The learning objectives for each section\n",
    "    - The learning outcomes for each notebook\n",
    "<br><br>\n",
    "1. [JupyterLabs](002_Intro_JupyterLabs.ipynb)<br>\n",
    "    You'll learn:\n",
    "    - How to open a Linux terminal\n",
    "    - How to change the layout\n",
    "    - How to shut down a notebook kernel\n",
    "<br><br>\n",
    "1. [NGC Setup](003_Intro_NGC_Setup.ipynb)<br>\n",
    "    You'll learn:\n",
    "    - How to create a free NGC account\n",
    "    - How to create a personal API key on NGC\n",
    "    - How to set up a Docker login to the NGC registry\n",
    "<br><br>"
   ]
  },
  {
   "cell_type": "markdown",
   "metadata": {
    "tags": []
   },
   "source": [
    "## ASR - Automatic Speech Recognition (Lab 1)\n",
    "The objective of this section is examine how ASR models work using NVIDIA NeMo and deploy an ASR pipeline with NVIDIA Riva.\n",
    "\n",
    "### Table of Contents\n",
    "\n",
    "4. [ASR Pipeline with NVIDIA NeMo](004_ASR_Pipeline.ipynb)<br>\n",
    "    You'll learn:\n",
    "    - Details about speech representation in the temporal domain\n",
    "    - How to visualize sound through spectrogams\n",
    "    - Details about QuartzNet, CitriNet, and Conformer acoustic models\n",
    "    - How to use a beam search decoder in transcription\n",
    "    - How to include punctuation and capitalization in transcription\n",
    "    - How to use a language ID model to detect what language was spoken\n",
    "<br><br>\n",
    "1. [ASR Pipeline Deployment with NVIDIA Riva](005_ASR_Deployment.ipynb)<br>\n",
    "    You'll learn:\n",
    "    - How to deploy a model with Riva ServiceMaker\n",
    "    - How to configure and start a Riva server\n",
    "    - How to send inference requests from a client to the server\n",
    "    - How to build a simple multi-translation pipeline\n",
    "<br><br>"
   ]
  },
  {
   "cell_type": "markdown",
   "metadata": {},
   "source": [
    "## TTS - Text To Speech (Lab 2)\n",
    "The objective of this section is to examine how TTS models work and extend your knowledge to a full custom conversational AI pipeline.\n",
    "\n",
    "### Table of Contents\n",
    "\n",
    "6. [TTS Pipeline with NVIDIA NeMo](006_TTS_Pipeline.ipynb)<br>\n",
    "    You'll learn:\n",
    "    - How to normalize speech\n",
    "    - How to convert graphemes to phonemes\n",
    "    - How to create a spectrograph\n",
    "    - How to customize speech output\n",
    "<br><br>\n",
    "1. [TTS Pipeline Deployment with NVIDIA Riva](007_TTS_Deployment.ipynb)<br>\n",
    "    You'll learn:\n",
    "    - How to launch Riva TTS services\n",
    "    - How to use the Riva TTS Python API\n",
    "    - How to customize pronunciations\n",
    "<br><br>\n",
    "1. [ASR-NLP-TTS Deployment](008_Full_Pipeline.ipynb)<br>\n",
    "    You'll learn:\n",
    "    - How to build an OOTB conversational AI pipeline\n",
    "    - How to build a customized conversational AI pipeline\n",
    "<br><br>"
   ]
  },
  {
   "cell_type": "markdown",
   "metadata": {
    "tags": []
   },
   "source": [
    "## Production Deployment (Lab 3)\n",
    "The objective of this section is to step through the production deployment of conversational AI applications at scale using a Kubernetes cluster.\n",
    "\n",
    "### Table of Contents\n",
    "\n",
    "9. [Enabling GPU within a Kubernetes (K8s) Cluster](009_K8s_Enable.ipynb)<br>\n",
    "    You'll learn:\n",
    "    - How to create a K8s cluster\n",
    "    - How to deploy an application to K8s\n",
    "    - How to add GPU awareness to K8s\n",
    "    - How to interact with K8s using `kubectl`\n",
    "    - How to install plugins with `helm`\n",
    "<br><br>\n",
    "1. [Monitoring GPU within Kubernetes Cluster](010_K8s_Monitor.ipynb)<br>\n",
    "    You'll learn:\n",
    "    - How to deploy a Prometheus server\n",
    "    - How to modify configurations with `helm`\n",
    "    - How to enable the Grafana graphical interface\n",
    "<br><br>\n",
    "1. [Deploying Riva Services within a Kubernetes Cluster and Further Riva API Examples](011_K8s_Deploy_Riva.ipynb)<br>\n",
    "    You'll learn:\n",
    "    - How to deploy Riva within K8s\n",
    "    - How to access the Riva server IP:Port\n",
    "    - How to query the text-to-speech (TTS) API\n",
    "    - How to query the NLP API\n",
    "<br><br>\n"
   ]
  },
  {
   "cell_type": "markdown",
   "metadata": {},
   "source": [
    "## Coding Assessment (Optional)\n",
    "To complete the coding assessment portion of the course certification, complete the \n",
    "[assessment.ipynb](assessment.ipynb) notebook."
   ]
  },
  {
   "cell_type": "markdown",
   "metadata": {},
   "source": [
    "<a href=\"https://www.nvidia.com/dli\"> <img src=\"images/DLI_Header.png\" alt=\"Header\" style=\"width: 400px;\"/> </a>"
   ]
  }
 ],
 "metadata": {
  "kernelspec": {
   "display_name": "Python 3 (ipykernel)",
   "language": "python",
   "name": "python3"
  },
  "language_info": {
   "codemirror_mode": {
    "name": "ipython",
    "version": 3
   },
   "file_extension": ".py",
   "mimetype": "text/x-python",
   "name": "python",
   "nbconvert_exporter": "python",
   "pygments_lexer": "ipython3",
   "version": "3.8.13"
  }
 },
 "nbformat": 4,
 "nbformat_minor": 4
}
