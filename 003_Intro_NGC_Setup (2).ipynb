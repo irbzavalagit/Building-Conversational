{
 "cells": [
  {
   "cell_type": "markdown",
   "id": "74a86981",
   "metadata": {},
   "source": [
    "<a href=\"https://www.nvidia.com/dli\"> <img src=\"images/DLI_Header.png\" alt=\"Header\" style=\"width: 400px;\"/> </a>"
   ]
  },
  {
   "cell_type": "markdown",
   "id": "d861ceeb",
   "metadata": {
    "tags": []
   },
   "source": [
    "# 3.0 NVIDIA GPU Cloud (NGC) Setup \n",
    "The NGC™ catalog is a hub of GPU-optimized AI, high-performance computing (HPC), and data analytics software that simplifies and accelerates end-to-end workflows. It includes enterprise-grade containers, pretrained AI models, and industry-specific SDKs. In this class, you'll install various speech AI resources this way and you'll need an NVIDIA GPU Cloud (NGC) account and API key.  For more information on NGC, please refer to the [NGC Overview](https://docs.nvidia.com/ngc/gpu-cloud/ngc-overview/index.html#accessing-ngc-softwarehttps://docs.nvidia.com/ngc/gpu-cloud/ngc-overview/index.html#accessing-ngc-software) documentation.<br>\n",
    "\n",
    "If you have not done so already, please\n",
    "1. [Log into NGC with your NVIDIA account](https://ngc.nvidia.com/signinhttps://ngc.nvidia.com/signin)\n",
    "    - If you haven't logged in to NGC before, complete the registration process following the prompts\n",
    "3. [Generate your NGC API key](https://ngc.nvidia.com/setup/api-key) and save it in a safe location\n",
    "   - Go to to the _Setup_ submenu under your login name in the upper right corner\n",
    "   - Choose \"Get API Key\" and follow the instructions provided there\n",
    "\n",
    "Once you have your API key, complete the following steps to set up your environment and download models you'll work with in the course."
   ]
  },
  {
   "cell_type": "markdown",
   "id": "e6e77875-b32d-40ac-81c3-306b204dfa90",
   "metadata": {
    "tags": []
   },
   "source": [
    "## Step 1: Log In to the NGC Registry from Docker\n",
    "\n",
    "Edit the following cell by replacing **MY_NGC_API_KEY** with your key. Then, execute both cells. \n",
    "\n",
    "You will see some warnings, but finally a \"Login Succeeded\" message."
   ]
  },
  {
   "cell_type": "code",
   "execution_count": null,
   "id": "d1ec9d5e",
   "metadata": {
    "tags": []
   },
   "outputs": [],
   "source": [
    "# Replace MY_NGC_API_KEY with your generated NGC API key\n",
    "api_key = \"YWsxdDZvMHJncW5pMTU5aTZwZmlobzBtcGg6NDYxMTU0OTctMGMwNC00OWUxLWIyYTMtOWY4ZWUxNGE2NjQ1\""
   ]
  },
  {
   "cell_type": "code",
   "execution_count": null,
   "id": "67e0e83b",
   "metadata": {},
   "outputs": [],
   "source": [
    "!docker login -u '$oauthtoken' -p $api_key nvcr.io"
   ]
  },
  {
   "cell_type": "markdown",
   "id": "3ff9f39e",
   "metadata": {},
   "source": [
    "## Step 2: NGC CLI Configuration\n",
    "The NGC command line utility is already installed.  Edit the following cell by replacing **MY_NGC_API_KEY** with your key. Then, execute the next two cells to configure NGC CLI."
   ]
  },
  {
   "cell_type": "code",
   "execution_count": null,
   "id": "d7a17c4b",
   "metadata": {},
   "outputs": [],
   "source": [
    "%%writefile config\n",
    ";WARNING - This is a machine generated file.  Do not edit manually.\n",
    ";WARNING - To update local config settings, see \"ngc config set -h\"\n",
    "\n",
    "[CURRENT]\n",
    "apikey = YWsxdDZvMHJncW5pMTU5aTZwZmlobzBtcGg6NDYxMTU0OTctMGMwNC00OWUxLWIyYTMtOWY4ZWUxNGE2NjQ1\n",
    "format_type = json\n",
    "org = nvidia"
   ]
  },
  {
   "cell_type": "code",
   "execution_count": null,
   "id": "7c0310ff",
   "metadata": {},
   "outputs": [],
   "source": [
    "%%bash\n",
    "mkdir -p ~/.ngc\n",
    "mv config ~/.ngc/"
   ]
  },
  {
   "cell_type": "markdown",
   "id": "3419bbf2",
   "metadata": {
    "tags": []
   },
   "source": [
    "## Step 3: Download Riva Skills Quick Start from NGC\n",
    "Run the following cell to execute the download from NGC.  \n",
    "\n",
    "If this works correctly, you'll see an output with information about the output that looks similar to:\n",
    "\n",
    "```\n",
    "{\n",
    "    \"download_end\": \"2023-02-25 00:06:55.683119\",\n",
    "    \"download_start\": \"2023-02-25 00:06:53.679792\",\n",
    "    \"download_time\": \"2s\",\n",
    "    \"files_downloaded\": 18,\n",
    "    \"local_path\": \"/dli_workspace/riva_quickstart_v2.8.1\",\n",
    "    \"size_downloaded\": \"52.38 KB\",\n",
    "    \"status\": \"Completed\",\n",
    "    \"transfer_id\": \"riva_quickstart_v2.8.1\"\n",
    "}\n",
    "```"
   ]
  },
  {
   "cell_type": "code",
   "execution_count": null,
   "id": "27b2fc94",
   "metadata": {},
   "outputs": [],
   "source": [
    "%%bash\n",
    "cd dli_workspace\n",
    "rm -rf riva_quickstart # remove old copy\n",
    "ngc registry resource download-version \"nvidia/riva/riva_quickstart:2.8.1\"\n",
    "mv riva_quickstart_v2.8.1 riva_quickstart\n",
    "chmod +x riva_quickstart/*.sh\n",
    "sed -i '/--name riva-service-maker*/a \\              --network host \\\\' riva_quickstart/riva_init.sh"
   ]
  },
  {
   "cell_type": "markdown",
   "id": "39caf760",
   "metadata": {},
   "source": [
    "---\n",
    "<h2 style=\"color:green;\">Congratulations!</h2>\n",
    "\n",
    "You've learned how to:\n",
    "- Log into Docker for access to the NGC registry with your API key\n",
    "- Download prebuilt ASR pipeline components with the NGC CLI\n",
    "\n",
    "Move on to the [ASR Pipeline With NVIDIA NeMo](004_ASR_Pipeline.ipynb) notebook."
   ]
  },
  {
   "cell_type": "markdown",
   "id": "86af4087",
   "metadata": {},
   "source": [
    "<a href=\"https://www.nvidia.com/dli\"> <img src=\"images/DLI_Header.png\" alt=\"Header\" style=\"width: 400px;\"/> </a>"
   ]
  }
 ],
 "metadata": {
  "kernelspec": {
   "display_name": "Python 3 (ipykernel)",
   "language": "python",
   "name": "python3"
  },
  "language_info": {
   "codemirror_mode": {
    "name": "ipython",
    "version": 3
   },
   "file_extension": ".py",
   "mimetype": "text/x-python",
   "name": "python",
   "nbconvert_exporter": "python",
   "pygments_lexer": "ipython3",
   "version": "3.8.13"
  }
 },
 "nbformat": 4,
 "nbformat_minor": 5
}
