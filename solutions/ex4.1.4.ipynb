{
 "cells": [
  {
   "cell_type": "code",
   "execution_count": null,
   "id": "b33dbf4e-9a7e-4e76-a5f2-18bfa7874660",
   "metadata": {},
   "outputs": [],
   "source": [
    "# Mel spectrogram\n",
    "\n",
    "n_fft = 512\n",
    "n_mels = 16\n",
    "\n",
    "# Mel scale spectrogram\n",
    "melspectrogram = librosa.feature.melspectrogram(signal, sr=sample_rate, n_fft=n_fft, hop_length=hop_length, n_mels=n_mels)\n",
    "\n",
    "# Convert a power mel spectrogram (amplitude squared) to decibel (dB) units\n",
    "melspectrogram_DB = librosa.power_to_db(np.abs(melspectrogram)**2, ref=np.max, top_db=100)\n",
    "\n",
    "# plot the signal in the frequency domain\n",
    "fig_spectrum = go.Figure(go.Heatmap(z=melspectrogram_DB, colorscale=colorscale,colorbar=dict(ticksuffix=' dB'),name='Mel-Spectrogram',\n",
    "               hovertemplate='Time: %{x:.2f} s<br>Frequency: %{y:.2f} kHz<br>Magnitude: %{z:.2f} dB<extra></extra>'),layout=frequency_layout)\n",
    "fig_spectrum.show()"
   ]
  }
 ],
 "metadata": {
  "kernelspec": {
   "display_name": "Python 3 (ipykernel)",
   "language": "python",
   "name": "python3"
  },
  "language_info": {
   "codemirror_mode": {
    "name": "ipython",
    "version": 3
   },
   "file_extension": ".py",
   "mimetype": "text/x-python",
   "name": "python",
   "nbconvert_exporter": "python",
   "pygments_lexer": "ipython3",
   "version": "3.8.13"
  }
 },
 "nbformat": 4,
 "nbformat_minor": 5
}
