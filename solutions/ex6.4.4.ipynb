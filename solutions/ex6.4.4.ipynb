{
 "cells": [
  {
   "cell_type": "code",
   "execution_count": null,
   "id": "bc0cec6b-6f59-4008-a7b3-faff8065d946",
   "metadata": {},
   "outputs": [],
   "source": [
    "# Pitch cutomization for happy emotion\n",
    "\n",
    "input_string_3 = \"I'm very happy for you.\"\n",
    "\n",
    "# Generate a vanilla speech synthesis\n",
    "spec_pred, durs_pred, pitch_pred = text_to_spectrogram(input_string_3)\n",
    "\n",
    "audio_pred=spectrogram_to_audio(spec_pred)\n",
    "print(\"First Audio sample:\")\n",
    "ipd.display(ipd.Audio(audio_pred, rate=22050))\n",
    "\n",
    "# Happy speech \n",
    "pitch_happy =  (pitch_pred)*1.1+1\n",
    "spec_happy, durs_happy_pred, pitch_happy_pred = text_to_spectrogram(input_string_3, pitch=pitch_happy)\n",
    "\n",
    "audio_happy=spectrogram_to_audio(spec_happy)\n",
    "print(\"Happy Speech:\")\n",
    "ipd.display(ipd.Audio(audio_happy, rate=22050)) "
   ]
  }
 ],
 "metadata": {
  "kernelspec": {
   "display_name": "Python 3 (ipykernel)",
   "language": "python",
   "name": "python3"
  },
  "language_info": {
   "codemirror_mode": {
    "name": "ipython",
    "version": 3
   },
   "file_extension": ".py",
   "mimetype": "text/x-python",
   "name": "python",
   "nbconvert_exporter": "python",
   "pygments_lexer": "ipython3",
   "version": "3.8.13"
  }
 },
 "nbformat": 4,
 "nbformat_minor": 5
}
