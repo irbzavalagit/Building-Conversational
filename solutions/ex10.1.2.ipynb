{
 "cells": [
  {
   "cell_type": "code",
   "execution_count": null,
   "id": "0aa64fb1",
   "metadata": {},
   "outputs": [],
   "source": [
    "# EXAMPLE solution - use as a guide only\n",
    "!helm install prometheus-community/kube-prometheus-stack \\\n",
    "   --version 44.3 \\\n",
    "   --create-namespace --namespace prometheus \\\n",
    "   --generate-name \\\n",
    "   --values $CONFIG_DIR/kube-prometheus-stack-v44.values \\\n",
    "   --set grafana.'grafana\\.ini'.server.domain=\"ec2-3-239-118-232.compute-1.amazonaws.com\" \\\n",
    "   --set grafana.'grafana\\.ini'.server.root_url=\"http://ec2-3-239-118-232.compute-1.amazonaws.com/grafana\" \\\n",
    "   --set grafana.ingress.hosts[0]=\"ec2-3-239-118-232.compute-1.amazonaws.com\""
   ]
  }
 ],
 "metadata": {
  "kernelspec": {
   "display_name": "Python 3 (ipykernel)",
   "language": "python",
   "name": "python3"
  },
  "language_info": {
   "codemirror_mode": {
    "name": "ipython",
    "version": 3
   },
   "file_extension": ".py",
   "mimetype": "text/x-python",
   "name": "python",
   "nbconvert_exporter": "python",
   "pygments_lexer": "ipython3",
   "version": "3.8.13"
  }
 },
 "nbformat": 4,
 "nbformat_minor": 5
}
