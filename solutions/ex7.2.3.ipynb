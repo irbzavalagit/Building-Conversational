{
 "cells": [
  {
   "cell_type": "code",
   "execution_count": null,
   "id": "c43ef6be",
   "metadata": {},
   "outputs": [],
   "source": [
    "text='<speak><prosody pitch=\"0.1\" rate=\"100%\">\"His name is Adam <phoneme ph=\"ɡzɪvɑˈtʃɛvski\">Grzywaczewski</phoneme> and he works for <phoneme ph=\"ɛnˈvɪdiə\">NVIDIA</phoneme>.</prosody></speak>'\n",
    "audio_samples, processed_text = tts_predict(text)\n",
    "print(\"preprocessed text: \", processed_text)\n",
    "ipd.Audio(audio_samples, rate=sample_rate_hz)"
   ]
  }
 ],
 "metadata": {
  "kernelspec": {
   "display_name": "Python 3 (ipykernel)",
   "language": "python",
   "name": "python3"
  },
  "language_info": {
   "codemirror_mode": {
    "name": "ipython",
    "version": 3
   },
   "file_extension": ".py",
   "mimetype": "text/x-python",
   "name": "python",
   "nbconvert_exporter": "python",
   "pygments_lexer": "ipython3",
   "version": "3.8.13"
  }
 },
 "nbformat": 4,
 "nbformat_minor": 5
}
