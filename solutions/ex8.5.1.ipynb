{
 "cells": [
  {
   "cell_type": "code",
   "execution_count": null,
   "id": "16dc5c88",
   "metadata": {},
   "outputs": [],
   "source": [
    "# Restaurant Pipeline\n",
    "# Put it all togeter\n",
    "\n",
    "SAMPLE=\"/dli_workspace/data/bruschetta_resampled.wav\"\n",
    "print(\"First Audio sample:\")\n",
    "ipd.display(ipd.Audio(SAMPLE, rate=sample_rate_hz, autoplay=True))\n",
    "\n",
    "# get input audio duration\n",
    "d=librosa.get_duration(filename=SAMPLE)\n",
    "\n",
    "# call Riva ASR  \n",
    "transcript=asr_predict(SAMPLE)\n",
    "print(transcript)\n",
    "\n",
    "# call Riva NER\n",
    "result=ner_predict(transcript)\n",
    "print(result)\n",
    "\n",
    "# call Dialog Manager\n",
    "dm_response = dm_predict_restaurant(result)\n",
    "print(dm_response)\n",
    "\n",
    "# call Riva TTS\n",
    "synth_audio, processed_text =tts_predict(dm_response.replace( \"bruschetta\", \"BROO SKETAH\"))\n",
    "\n",
    "time.sleep(d)\n",
    "print(\"Virtual Assistant Response:\")\n",
    "ipd.display(ipd.Audio(synth_audio, rate=sample_rate_hz, autoplay=True))"
   ]
  },
  {
   "cell_type": "code",
   "execution_count": null,
   "id": "746af503-3614-4dde-ab3f-fe323192e7b0",
   "metadata": {},
   "outputs": [],
   "source": []
  }
 ],
 "metadata": {
  "kernelspec": {
   "display_name": "Python 3 (ipykernel)",
   "language": "python",
   "name": "python3"
  },
  "language_info": {
   "codemirror_mode": {
    "name": "ipython",
    "version": 3
   },
   "file_extension": ".py",
   "mimetype": "text/x-python",
   "name": "python",
   "nbconvert_exporter": "python",
   "pygments_lexer": "ipython3",
   "version": "3.8.13"
  }
 },
 "nbformat": 4,
 "nbformat_minor": 5
}
